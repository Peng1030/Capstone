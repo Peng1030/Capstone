{
 "cells": [
  {
   "cell_type": "markdown",
   "metadata": {},
   "source": [
    "# Final Report for Capstone Project for Ryerson CKME136\n",
    "#### Peng"
   ]
  },
  {
   "cell_type": "markdown",
   "metadata": {},
   "source": [
    "### Step 0: Prepare Environment"
   ]
  },
  {
   "cell_type": "code",
   "execution_count": 1,
   "metadata": {},
   "outputs": [],
   "source": [
    "#Opening the requires packages\n",
    "exec(open(\"../Scripts/Packages.py\").read())\n",
    "%matplotlib inline\n",
    "np.seterr(invalid='ignore')\n",
    "\n",
    "#Set the Alpha value for the analysis\n",
    "alpha_value = 0.001\n",
    "\n",
    "#Set Target Variable\n",
    "target = 'salary'\n",
    "n_clusters=5\n",
    "\n",
    "#Variables\n",
    "PCAvar = 10"
   ]
  },
  {
   "cell_type": "markdown",
   "metadata": {},
   "source": [
    "### Step 1: Data Collection"
   ]
  },
  {
   "cell_type": "code",
   "execution_count": 2,
   "metadata": {
    "collapsed": true
   },
   "outputs": [],
   "source": [
    "#Import the Data Files\n",
    "exec(open(\"../Scripts/Data_Import.py\").read())"
   ]
  },
  {
   "cell_type": "markdown",
   "metadata": {},
   "source": [
    "### Step 2: Preliminary Data Cleaning/Structuring"
   ]
  },
  {
   "cell_type": "code",
   "execution_count": 3,
   "metadata": {},
   "outputs": [],
   "source": [
    "#Mapping together the files and calculating fields\n",
    "exec(open(\"../Scripts/Data_Cleaning.py\").read())"
   ]
  },
  {
   "cell_type": "code",
   "execution_count": 4,
   "metadata": {},
   "outputs": [],
   "source": [
    "#We don't really need player ID\n",
    "Data = Data.drop(['playerID'], axis=1)"
   ]
  },
  {
   "cell_type": "markdown",
   "metadata": {},
   "source": [
    "### Step 3: Exploratory Data Analysis"
   ]
  },
  {
   "cell_type": "markdown",
   "metadata": {},
   "source": [
    "#### Testing String Variables"
   ]
  },
  {
   "cell_type": "code",
   "execution_count": 5,
   "metadata": {},
   "outputs": [
    {
     "name": "stdout",
     "output_type": "stream",
     "text": [
      "Comparing Standard Deviations\n",
      "\n",
      "T-statistic: 332.856050555\n",
      "P-Value: 2.29479411412e-74\n",
      "  \n",
      "Reject NULL hypothesis - Significant differences exist between the standard deviations of the groups.\n",
      "\n",
      "\n",
      "Checking for Normality\n",
      "\n",
      "P-value: 2.18842026307e-10\n",
      "  \n",
      "Reject NULL hypothesis - Not normal distribution\n",
      "\n",
      "\n",
      "ANOVA Testing\n",
      "\n",
      "Can one use ANOVA?\n",
      "  \n",
      "Independent:  True\n",
      "Normal:  False\n",
      "StdDevEq:  False\n",
      "  \n",
      "The assumptions to use ANOVA have not been met.\n",
      "\n",
      "Kruskal-Wallis Testing\n",
      "\n",
      "H-statistic: 0.0218517342146\n",
      "P-Value: 0.882482204082\n",
      "\n",
      "Accept NULL hypothesis - No significant difference between groups.\n"
     ]
    }
   ],
   "source": [
    "#League\n",
    "testing = 'lgID'\n",
    "independent = True\n",
    "\n",
    "Test = Data.loc[:, [testing, target]]\n",
    "Test = Test.pivot(columns=testing, values=target)\n",
    "\n",
    "exec(open(\"../Scripts/Data_Testing/Statistical_Tests.py\").read())\n",
    "\n",
    "if Sig == False:\n",
    "    Data = Data.drop([testing], axis=1)"
   ]
  },
  {
   "cell_type": "code",
   "execution_count": 6,
   "metadata": {},
   "outputs": [
    {
     "name": "stdout",
     "output_type": "stream",
     "text": [
      "Comparing Standard Deviations\n",
      "\n",
      "T-statistic: 380.495489492\n",
      "P-Value: 9.70701228559e-85\n",
      "  \n",
      "Reject NULL hypothesis - Significant differences exist between the standard deviations of the groups.\n",
      "\n",
      "\n",
      "Checking for Normality\n",
      "\n",
      "P-value: 2.18842026307e-10\n",
      "  \n",
      "Reject NULL hypothesis - Not normal distribution\n",
      "\n",
      "\n",
      "ANOVA Testing\n",
      "\n",
      "Can one use ANOVA?\n",
      "  \n",
      "Independent:  True\n",
      "Normal:  False\n",
      "StdDevEq:  False\n",
      "  \n",
      "The assumptions to use ANOVA have not been met.\n",
      "\n",
      "Kruskal-Wallis Testing\n",
      "\n",
      "H-statistic: 20.6653623195\n",
      "P-Value: 5.46965620541e-06\n",
      "\n",
      "Reject NULL hypothesis - Significant differences exist between groups.\n"
     ]
    }
   ],
   "source": [
    "#Throws\n",
    "testing = 'throws'\n",
    "independent = True\n",
    "\n",
    "Test = Data.loc[:, [testing, target]]\n",
    "Test = Test.pivot(columns=testing, values=target)\n",
    "\n",
    "exec(open(\"../Scripts/Data_Testing/Statistical_Tests.py\").read())\n",
    "\n",
    "if Sig == False:\n",
    "    Data = Data.drop([testing], axis=1)"
   ]
  },
  {
   "cell_type": "code",
   "execution_count": 7,
   "metadata": {},
   "outputs": [
    {
     "name": "stdout",
     "output_type": "stream",
     "text": [
      "Comparing Standard Deviations\n",
      "\n",
      "T-statistic: 942.933426624\n",
      "P-Value: 1.75633763456e-205\n",
      "  \n",
      "Reject NULL hypothesis - Significant differences exist between the standard deviations of the groups.\n",
      "\n",
      "\n",
      "Checking for Normality\n",
      "\n",
      "P-value: 2.18842026307e-10\n",
      "  \n",
      "Reject NULL hypothesis - Not normal distribution\n",
      "\n",
      "\n",
      "ANOVA Testing\n",
      "\n",
      "Can one use ANOVA?\n",
      "  \n",
      "Independent:  True\n",
      "Normal:  False\n",
      "StdDevEq:  False\n",
      "  \n",
      "The assumptions to use ANOVA have not been met.\n",
      "\n",
      "Kruskal-Wallis Testing\n",
      "\n",
      "H-statistic: 51.5910017287\n",
      "P-Value: 6.26839443946e-12\n",
      "\n",
      "Reject NULL hypothesis - Significant differences exist between groups.\n"
     ]
    }
   ],
   "source": [
    "#Bats\n",
    "testing = 'bats'\n",
    "independent = True\n",
    "\n",
    "Test = Data.loc[:, [testing, target]]\n",
    "Test = Test.pivot(columns=testing, values=target)\n",
    "\n",
    "exec(open(\"../Scripts/Data_Testing/Statistical_Tests.py\").read())\n",
    "\n",
    "if Sig == False:\n",
    "    Data = Data.drop([testing], axis=1)"
   ]
  },
  {
   "cell_type": "code",
   "execution_count": 8,
   "metadata": {},
   "outputs": [
    {
     "name": "stdout",
     "output_type": "stream",
     "text": [
      "Comparing Standard Deviations\n",
      "\n",
      "T-statistic: 190357.242078\n",
      "P-Value: 0.0\n",
      "  \n",
      "Reject NULL hypothesis - Significant differences exist between the standard deviations of the groups.\n",
      "\n",
      "\n",
      "Checking for Normality\n",
      "\n",
      "P-value: 2.18842026307e-10\n",
      "  \n",
      "Reject NULL hypothesis - Not normal distribution\n",
      "\n",
      "\n",
      "ANOVA Testing\n",
      "\n",
      "Can one use ANOVA?\n",
      "  \n",
      "Independent:  True\n",
      "Normal:  False\n",
      "StdDevEq:  False\n",
      "  \n",
      "The assumptions to use ANOVA have not been met.\n",
      "\n",
      "Kruskal-Wallis Testing\n",
      "\n",
      "H-statistic: 807.138415208\n",
      "P-Value: 1.32957113226e-147\n",
      "\n",
      "Reject NULL hypothesis - Significant differences exist between groups.\n"
     ]
    }
   ],
   "source": [
    "#Team\n",
    "testing = 'teamID'\n",
    "independent = True\n",
    "\n",
    "Test = Data.loc[:, [testing, target]]\n",
    "Test = Test.pivot(columns=testing, values=target)\n",
    "\n",
    "exec(open(\"../Scripts/Data_Testing/Statistical_Tests.py\").read())\n",
    "\n",
    "if Sig == False:\n",
    "    Data = Data.drop([testing], axis=1)\n",
    "else:     \n",
    "    Test = Test.replace(np.nan, 0)\n",
    "    kmeans = KMeans(n_clusters, random_state=0).fit(Test)\n",
    "    Data[testing+' - Clusters'] = pd.Series(kmeans.labels_, index=Test.index)\n",
    "    Data = Data.drop([testing], axis=1)"
   ]
  },
  {
   "cell_type": "code",
   "execution_count": 9,
   "metadata": {},
   "outputs": [
    {
     "name": "stdout",
     "output_type": "stream",
     "text": [
      "Comparing Standard Deviations\n",
      "\n",
      "T-statistic: inf\n",
      "P-Value: 0.0\n",
      "  \n",
      "Reject NULL hypothesis - Significant differences exist between the standard deviations of the groups.\n",
      "\n",
      "\n",
      "Checking for Normality\n",
      "\n",
      "P-value: 2.18842026307e-10\n",
      "  \n",
      "Reject NULL hypothesis - Not normal distribution\n",
      "\n",
      "\n",
      "ANOVA Testing\n",
      "\n",
      "Can one use ANOVA?\n",
      "  \n",
      "Independent:  True\n",
      "Normal:  False\n",
      "StdDevEq:  False\n",
      "  \n",
      "The assumptions to use ANOVA have not been met.\n",
      "\n",
      "Kruskal-Wallis Testing\n",
      "\n"
     ]
    },
    {
     "name": "stderr",
     "output_type": "stream",
     "text": [
      "/Users/Margaret/anaconda3/lib/python3.6/site-packages/scipy/stats/morestats.py:1855: RuntimeWarning: divide by zero encountered in log\n",
      "  numer = (Ntot*1.0 - k) * log(spsq) - np.sum((Ni - 1.0)*log(ssq), axis=0)\n"
     ]
    },
    {
     "name": "stdout",
     "output_type": "stream",
     "text": [
      "H-statistic: 262.227417225\n",
      "P-Value: 2.06202390401e-41\n",
      "\n",
      "Reject NULL hypothesis - Significant differences exist between groups.\n"
     ]
    }
   ],
   "source": [
    "#birthCountry\n",
    "testing = 'birthCountry'\n",
    "independent = True\n",
    "\n",
    "Test = Data.loc[:, [testing, target]]\n",
    "Test = Test.pivot(columns=testing, values=target)\n",
    "\n",
    "exec(open(\"../Scripts/Data_Testing/Statistical_Tests.py\").read())\n",
    "\n",
    "if Sig == False:\n",
    "    Data = Data.drop([testing], axis=1)\n",
    "else:     \n",
    "    Test = Test.replace(np.nan, 0)\n",
    "    kmeans = KMeans(n_clusters=5, random_state=0).fit(Test)\n",
    "    Data = Data.drop([testing], axis=1)\n",
    "    Data[testing+' - Clusters'] = pd.Series(kmeans.labels_, index=Test.index)"
   ]
  },
  {
   "cell_type": "markdown",
   "metadata": {},
   "source": [
    "### Step 4: Secondary Data Cleaning"
   ]
  },
  {
   "cell_type": "code",
   "execution_count": 10,
   "metadata": {},
   "outputs": [],
   "source": [
    "#Select what variables to dummy \n",
    "To_Dummy = Data.filter(regex='Clusters', axis=1)\n",
    "To_Dummy = To_Dummy.astype(str)\n",
    "\n",
    "#Dummy = Data.loc[:, To_Dummy]\n",
    "Dummy = pd.get_dummies(To_Dummy, prefix=None, prefix_sep=' - ')\n",
    "\n",
    "#Drops those columns and put the dummy variables back in place\n",
    "Data = Data.drop(To_Dummy.columns, axis=1)\n",
    "Data = pd.concat([Data, Dummy], axis=1, join='inner')\n"
   ]
  },
  {
   "cell_type": "code",
   "execution_count": 11,
   "metadata": {},
   "outputs": [
    {
     "name": "stdout",
     "output_type": "stream",
     "text": [
      "['bats', 'throws']\n"
     ]
    }
   ],
   "source": [
    "#Check the string variables\n",
    "print(list(Data.select_dtypes(include=['O']).columns))\n",
    "\n",
    "#Select what variables to dummy \n",
    "To_Dummy = list(Data.select_dtypes(include=['O']).columns)\n",
    "\n",
    "#Dummy the Variables\n",
    "exec(open(\"../Scripts/Dummy_Strings.py\").read())"
   ]
  },
  {
   "cell_type": "markdown",
   "metadata": {},
   "source": [
    "### Step 5: Correlation Analysis"
   ]
  },
  {
   "cell_type": "code",
   "execution_count": 12,
   "metadata": {},
   "outputs": [],
   "source": [
    "#Conduct Principal Component Analysis\n",
    "#exec(open(\"../Scripts/PCA.py\").read())"
   ]
  },
  {
   "cell_type": "code",
   "execution_count": 13,
   "metadata": {},
   "outputs": [
    {
     "name": "stdout",
     "output_type": "stream",
     "text": [
      "                                  Rho         PValue\n",
      "salary                       1.000000   0.000000e+00\n",
      "yearsPlayed                  0.612581   0.000000e+00\n",
      "age                          0.514736   0.000000e+00\n",
      "birthCountry - Clusters - 0  0.475234   0.000000e+00\n",
      "yearID                       0.456065   0.000000e+00\n",
      "Games                        0.294453   0.000000e+00\n",
      "birthCountry - Clusters - 3  0.271533  6.140448e-298\n",
      "OPS                          0.270421  2.001697e-295\n",
      "weight                       0.242189  1.365486e-235\n",
      "birthCountry - Clusters - 4  0.171889  6.417686e-118\n",
      "teamID - Clusters - 1        0.123566   2.038896e-61\n",
      "teamID - Clusters - 3        0.123246   4.163239e-61\n",
      "birthCountry - Clusters - 2  0.117089   2.726397e-55\n",
      "DH                           0.113393   6.042158e-52\n",
      "teamID - Clusters - 4        0.104933   1.066594e-44\n",
      "height                       0.091940   1.128526e-34\n",
      "teamID - Clusters - 2        0.086617   5.965066e-31\n",
      "bats - L                     0.053249   1.217288e-12\n",
      "DPg                          0.048351   1.123692e-10\n",
      "POg                          0.042442   1.510947e-08\n",
      "throws - L                   0.034100   5.440371e-06\n",
      "Outfield                     0.028528   1.425352e-04\n",
      "throws - R                  -0.034100   5.440371e-06\n",
      "bats - R                    -0.041666   2.747952e-08\n",
      "Ag                          -0.046744   4.526189e-10\n",
      "teamID - Clusters - 0       -0.222749  1.114599e-198\n",
      "Pinch                       -0.378472   0.000000e+00\n",
      "birthCountry - Clusters - 1 -0.608030   0.000000e+00\n"
     ]
    },
    {
     "data": {
      "image/png": "[encoded data removed]",
      "text/plain": [
       "<matplotlib.figure.Figure at 0x11b1aae80>"
      ]
     },
     "metadata": {},
     "output_type": "display_data"
    }
   ],
   "source": [
    "#Correlated the values, and strips out any variables that are below the Alpha value\n",
    "exec(open(\"../Scripts/Correlation.py\").read())"
   ]
  },
  {
   "cell_type": "code",
   "execution_count": 14,
   "metadata": {},
   "outputs": [
    {
     "name": "stdout",
     "output_type": "stream",
     "text": [
      "Axes(0.125,0.125;0.62x0.755)\n"
     ]
    },
    {
     "data": {
      "image/png": "[encoded data removed]",
      "text/plain": [
       "<matplotlib.figure.Figure at 0x11b5019e8>"
      ]
     },
     "metadata": {},
     "output_type": "display_data"
    }
   ],
   "source": [
    "print(sns.heatmap(pd.DataFrame(Rho), xticklabels=list(Data), yticklabels=list(Data)))"
   ]
  },
  {
   "cell_type": "code",
   "execution_count": 15,
   "metadata": {},
   "outputs": [
    {
     "name": "stdout",
     "output_type": "stream",
     "text": [
      "Axes(0.125,0.125;0.62x0.755)\n"
     ]
    },
    {
     "data": {
      "image/png": "[encoded data removed]",
      "text/plain": [
       "<matplotlib.figure.Figure at 0x11bb06e48>"
      ]
     },
     "metadata": {},
     "output_type": "display_data"
    }
   ],
   "source": [
    "print(sns.heatmap(pd.DataFrame(Pval), xticklabels=list(Data), yticklabels=list(Data)))"
   ]
  },
  {
   "cell_type": "markdown",
   "metadata": {},
   "source": [
    "### Step 6: Regression Analysis"
   ]
  },
  {
   "cell_type": "code",
   "execution_count": 16,
   "metadata": {},
   "outputs": [
    {
     "name": "stdout",
     "output_type": "stream",
     "text": [
      "Explained Variance: 0.70\n",
      "r^2: 0.70\n",
      "Mean squared error: 575335872869.98\n",
      "                             Coefficient        Abs\n",
      "birthCountry - Clusters - 1   -5898099.1  5898099.1\n",
      "birthCountry - Clusters - 3    4200126.3  4200126.3\n",
      "birthCountry - Clusters - 4    2977444.2  2977444.2\n",
      "birthCountry - Clusters - 0   -2882840.2  2882840.2\n",
      "teamID - Clusters - 0         -2846529.1  2846529.1\n",
      "Pinch                         -2356456.6  2356456.6\n",
      "teamID - Clusters - 1          2229623.5  2229623.5\n",
      "birthCountry - Clusters - 2    1603368.8  1603368.8\n",
      "teamID - Clusters - 2          1478877.8  1478877.8\n",
      "Infield                       -1439636.0  1439636.0\n",
      "Outfield                      -1198605.6  1198605.6\n",
      "DH                            -1009695.8  1009695.8\n",
      "teamID - Clusters - 3          -676202.8   676202.8\n",
      "OPS                             480206.7   480206.7\n",
      "teamID - Clusters - 4          -185769.3   185769.3\n",
      "throws - R                      131815.4   131815.4\n",
      "throws - L                     -131815.4   131815.4\n",
      "bats - R                       -109898.3   109898.3\n",
      "yearsPlayed                     104154.5   104154.5\n",
      "bats - B                        100817.3   100817.3\n",
      "Eg                              -44759.8    44759.8\n",
      "yearID                           44010.2    44010.2\n",
      "age                              17201.4    17201.4\n",
      "DPg                              11441.9    11441.9\n",
      "bats - L                          9080.9     9080.9\n",
      "Ag                               -8073.4     8073.4\n",
      "weight                            5644.7     5644.7\n",
      "Games                             5025.0     5025.0\n",
      "POg                               4432.3     4432.3\n",
      "height                            1027.5     1027.5\n"
     ]
    }
   ],
   "source": [
    "#Spilt the Data into Training and Testing Sets (50% in each set)\n",
    "exec(open(\"../Scripts/SplitToTrainTest.py\").read())\n",
    "\n",
    "#Create and apply linear regression model\n",
    "exec(open(\"../Scripts/LinReg.py\").read())\n"
   ]
  }
 ],
 "metadata": {
  "kernelspec": {
   "display_name": "Python 3",
   "language": "python",
   "name": "python3"
  },
  "language_info": {
   "codemirror_mode": {
    "name": "ipython",
    "version": 3
   },
   "file_extension": ".py",
   "mimetype": "text/x-python",
   "name": "python",
   "nbconvert_exporter": "python",
   "pygments_lexer": "ipython3",
   "version": "3.8.3"
  }
 },
 "nbformat": 4,
 "nbformat_minor": 2
}
