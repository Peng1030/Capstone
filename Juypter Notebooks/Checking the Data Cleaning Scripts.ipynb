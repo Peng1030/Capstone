{
 "cells": [
  {
   "cell_type": "code",
   "execution_count": 43,
   "metadata": {
    "collapsed": true
   },
   "outputs": [],
   "source": [
    "exec(open(\"../Scripts/Packages.py\").read())\n",
    "exec(open(\"../Scripts/Data_Import.py\").read())\n",
    "target = 'salary'\n",
    "%matplotlib inline"
   ]
  },
  {
   "cell_type": "code",
   "execution_count": 44,
   "metadata": {
    "collapsed": false
   },
   "outputs": [],
   "source": [
    "\n",
    "#Added, Age, Years Played, Country of Birth, First and Last Names, Weight, Height, Bat Hand, Throwing Hand\n",
    "\n",
    "Trim_Master = Master[['playerID','birthYear', 'birthCountry', 'weight','height','bats','throws','debut']]\n",
    "Data = Salaries.merge(Trim_Master,how='left', left_on='playerID', right_on='playerID')\n",
    "Data['age'] = Data['yearID'] - Data['birthYear']\n",
    "Data['debut'] = pd.to_datetime(Data['debut'])\n",
    "Data['debutYear'] = pd.DatetimeIndex(Data['debut']).year\n",
    "Data['yearsPlayed'] = Data['yearID'] - Data['debutYear']\n",
    "Data = Data.drop(['birthYear', 'debut', 'debutYear'], axis=1)\n",
    "\n",
    "\n",
    "#Adding in the appearance chart\n",
    "Data = pd.merge(Data, Appearances,  how='left', left_on=['yearID','teamID', 'playerID', 'lgID'], right_on = ['yearID','teamID','playerID','lgID'])\n",
    "Data = Data.drop(['G_batting', 'G_defense'], axis=1)\n",
    "\n",
    "\n",
    "#Remove the pitchers and catchers\n",
    "Data = Data[Data[\"G_p\"] == 0]\n",
    "Data = Data[Data[\"G_c\"] == 0]\n",
    "Data = Data.drop([\"G_p\", \"G_c\"], axis=1)\n",
    "\n",
    "\n",
    "#Combining postions to groups\n",
    "Data['Outfield'] = Data['G_lf'] + Data['G_cf'] + Data['G_rf']\n",
    "Data['Infield'] = Data['G_1b'] + Data['G_2b'] + Data['G_ss'] + Data['G_3b']\n",
    "Data['Pinch'] = Data['G_ph'] + Data['G_pr']\n",
    "Data['DH'] = Data['G_dh']\n",
    "\n",
    "Data = Data.drop(['G_lf', 'G_cf', 'G_rf', 'G_1b', 'G_2b', 'G_ss', 'G_3b', 'G_ph', 'G_pr', 'G_dh', 'G_of' ], axis=1)\n",
    "\n",
    "\n",
    "#Baseline to games\n",
    "Data['Outfield'] = Data['Outfield']/Data['G_all']\n",
    "Data['Infield'] = Data['Infield']/Data['G_all']\n",
    "Data['Pinch'] = Data['Pinch']/Data['G_all']\n",
    "Data['DH'] = Data['DH']/Data['G_all']\n",
    "\n",
    "#Add fielding stats\n",
    "Data = pd.merge(Data, Fielding,  how='left', left_on=['yearID','teamID', 'playerID', 'lgID'], right_on = ['yearID','teamID','playerID','lgID'])\n",
    "Data = Data.drop(['stint', 'POS', 'PB', 'WP', 'SB', 'CS', 'ZR', 'GS_y'], axis=1)\n",
    "\n",
    "#Converting to the stats to per game\n",
    "Data['Games'] = Data['InnOuts']/3/9\n",
    "Data[['POg','Ag', 'Eg', 'DPg']] = Data[['PO','A', 'E', 'DP']].divide(Data.Games, axis=0).fillna(0)\n",
    "Data = Data.drop(['InnOuts', 'PO','A', 'E', 'DP'], axis=1)\n",
    "\n",
    "\n",
    "#Add Batting stats\n",
    "Data = pd.merge(Data, Batting,  how='left', left_on=['yearID','teamID', 'playerID', 'lgID'], right_on = ['yearID','teamID','playerID','lgID'])\n",
    "Data = Data.drop(['stint', 'G_y'], axis=1)\n",
    "\n",
    "#Adding Calc Stats\n",
    "Data['1B'] = Data['H'].subtract(Data['2B'].subtract(Data['3B'].subtract(Data['HR'])))\n",
    "Data['SLG'] = (Data['1B'].add(Data['2B']*2).add(Data['3B']*3).add(Data['HR']*4)).divide(Data['AB'])\n",
    "Data['OBP'] = (Data['H']+Data['BB']+Data['HBP'])/(Data['AB']+Data['BB']+Data['HBP']+Data['SF'])\n",
    "Data['OPS'] = Data['SLG'] + Data['OBP']\n",
    "\n",
    "\n",
    "#Dropping stats used in SLG, OBP, and OPS\n",
    "Data = Data.drop(['R', 'H', '2B', '3B', 'HR', 'RBI', 'SB','CS', 'BB', 'SO', 'IBB', 'HBP', 'SH', 'SF', 'GIDP'], axis=1)\n",
    "Data = Data.drop(['AB', '1B'], axis=1)\n",
    "\n",
    "#SLG and OBP are highly corrolated to OPS. \n",
    "Data = Data.drop(['SLG', 'OBP'], axis=1)\n",
    "\n",
    "#Too Many Games\n",
    "Data = Data.drop(['GS_x', 'G_all', 'G_x'], axis=1)\n",
    "\n",
    "\n",
    "#Remove infs and Nans\n",
    "Data = Data.replace(np.inf, np.nan)\n",
    "Data = Data.replace(np.nan, 0)\n"
   ]
  },
  {
   "cell_type": "code",
   "execution_count": 45,
   "metadata": {
    "collapsed": false
   },
   "outputs": [
    {
     "name": "stderr",
     "output_type": "stream",
     "text": [
      "/Users/Margaret/anaconda3/lib/python3.6/site-packages/scipy/stats/stats.py:250: RuntimeWarning: The input array could not be properly checked for nan values. nan values will be ignored.\n",
      "  \"values. nan values will be ignored.\", RuntimeWarning)\n"
     ]
    },
    {
     "name": "stdout",
     "output_type": "stream",
     "text": [
      "                   Rho         PValue\n",
      "salary        1.000000   0.000000e+00\n",
      "yearsPlayed   0.612581   0.000000e+00\n",
      "age           0.514736   0.000000e+00\n",
      "yearID        0.456065   0.000000e+00\n",
      "Games         0.294453   0.000000e+00\n",
      "OPS           0.270421  2.001697e-295\n",
      "weight        0.242189  1.365486e-235\n",
      "DH            0.113393   6.042158e-52\n",
      "height        0.091940   1.128526e-34\n",
      "DPg           0.048351   1.123692e-10\n",
      "POg           0.042442   1.510947e-08\n",
      "Outfield      0.028528   1.425352e-04\n",
      "birthCountry -0.023701   1.578323e-03\n",
      "Infield      -0.023765   1.532653e-03\n",
      "bats         -0.029892   6.727189e-05\n",
      "throws       -0.034100   5.440371e-06\n",
      "Ag           -0.046744   4.526189e-10\n",
      "Pinch        -0.378472   0.000000e+00\n"
     ]
    },
    {
     "data": {
      "image/png": "[encoded data removed]",
      "text/plain": [
       "<matplotlib.figure.Figure at 0x1197a9908>"
      ]
     },
     "metadata": {},
     "output_type": "display_data"
    }
   ],
   "source": [
    "exec(open(\"../Scripts/Correlation.py\").read())"
   ]
  },
  {
   "cell_type": "code",
   "execution_count": 46,
   "metadata": {
    "collapsed": false
   },
   "outputs": [
    {
     "name": "stdout",
     "output_type": "stream",
     "text": [
      "Axes(0.125,0.125;0.62x0.755)\n"
     ]
    },
    {
     "data": {
      "image/png": "[encoded data removed]",
      "text/plain": [
       "<matplotlib.figure.Figure at 0x1182f7518>"
      ]
     },
     "metadata": {},
     "output_type": "display_data"
    }
   ],
   "source": [
    "print(sns.heatmap(pd.DataFrame(Rho), xticklabels=list(Data), yticklabels=list(Data)))"
   ]
  },
  {
   "cell_type": "code",
   "execution_count": 47,
   "metadata": {
    "collapsed": false
   },
   "outputs": [
    {
     "data": {
      "text/html": [
       "<div>\n",
       "<table border=\"1\" class=\"dataframe\">\n",
       "  <thead>\n",
       "    <tr style=\"text-align: right;\">\n",
       "      <th></th>\n",
       "      <th>yearID</th>\n",
       "      <th>teamID</th>\n",
       "      <th>lgID</th>\n",
       "      <th>playerID</th>\n",
       "      <th>salary</th>\n",
       "      <th>birthCountry</th>\n",
       "      <th>weight</th>\n",
       "      <th>height</th>\n",
       "      <th>bats</th>\n",
       "      <th>throws</th>\n",
       "      <th>...</th>\n",
       "      <th>Outfield</th>\n",
       "      <th>Infield</th>\n",
       "      <th>Pinch</th>\n",
       "      <th>DH</th>\n",
       "      <th>Games</th>\n",
       "      <th>POg</th>\n",
       "      <th>Ag</th>\n",
       "      <th>Eg</th>\n",
       "      <th>DPg</th>\n",
       "      <th>OPS</th>\n",
       "    </tr>\n",
       "  </thead>\n",
       "  <tbody>\n",
       "    <tr>\n",
       "      <th>0</th>\n",
       "      <td>1985</td>\n",
       "      <td>ATL</td>\n",
       "      <td>NL</td>\n",
       "      <td>chambch01</td>\n",
       "      <td>800000</td>\n",
       "      <td>USA</td>\n",
       "      <td>195.0</td>\n",
       "      <td>73.0</td>\n",
       "      <td>L</td>\n",
       "      <td>R</td>\n",
       "      <td>...</td>\n",
       "      <td>0.000000</td>\n",
       "      <td>0.386139</td>\n",
       "      <td>0.643564</td>\n",
       "      <td>0.0</td>\n",
       "      <td>30.148148</td>\n",
       "      <td>9.917690</td>\n",
       "      <td>0.829238</td>\n",
       "      <td>0.033170</td>\n",
       "      <td>1.028256</td>\n",
       "      <td>0.636290</td>\n",
       "    </tr>\n",
       "    <tr>\n",
       "      <th>1</th>\n",
       "      <td>1985</td>\n",
       "      <td>ATL</td>\n",
       "      <td>NL</td>\n",
       "      <td>harpete01</td>\n",
       "      <td>250000</td>\n",
       "      <td>USA</td>\n",
       "      <td>195.0</td>\n",
       "      <td>76.0</td>\n",
       "      <td>R</td>\n",
       "      <td>R</td>\n",
       "      <td>...</td>\n",
       "      <td>0.949275</td>\n",
       "      <td>0.000000</td>\n",
       "      <td>0.094203</td>\n",
       "      <td>0.0</td>\n",
       "      <td>122.185185</td>\n",
       "      <td>1.759624</td>\n",
       "      <td>0.081843</td>\n",
       "      <td>0.040921</td>\n",
       "      <td>0.000000</td>\n",
       "      <td>0.741806</td>\n",
       "    </tr>\n",
       "    <tr>\n",
       "      <th>2</th>\n",
       "      <td>1985</td>\n",
       "      <td>ATL</td>\n",
       "      <td>NL</td>\n",
       "      <td>hornebo01</td>\n",
       "      <td>1500000</td>\n",
       "      <td>USA</td>\n",
       "      <td>195.0</td>\n",
       "      <td>73.0</td>\n",
       "      <td>R</td>\n",
       "      <td>R</td>\n",
       "      <td>...</td>\n",
       "      <td>0.000000</td>\n",
       "      <td>0.976923</td>\n",
       "      <td>0.038462</td>\n",
       "      <td>0.0</td>\n",
       "      <td>82.925926</td>\n",
       "      <td>10.756588</td>\n",
       "      <td>0.699419</td>\n",
       "      <td>0.000000</td>\n",
       "      <td>1.266190</td>\n",
       "      <td>0.844720</td>\n",
       "    </tr>\n",
       "    <tr>\n",
       "      <th>3</th>\n",
       "      <td>1985</td>\n",
       "      <td>ATL</td>\n",
       "      <td>NL</td>\n",
       "      <td>hornebo01</td>\n",
       "      <td>1500000</td>\n",
       "      <td>USA</td>\n",
       "      <td>195.0</td>\n",
       "      <td>73.0</td>\n",
       "      <td>R</td>\n",
       "      <td>R</td>\n",
       "      <td>...</td>\n",
       "      <td>0.000000</td>\n",
       "      <td>0.976923</td>\n",
       "      <td>0.038462</td>\n",
       "      <td>0.0</td>\n",
       "      <td>35.444444</td>\n",
       "      <td>0.705329</td>\n",
       "      <td>1.721003</td>\n",
       "      <td>0.310345</td>\n",
       "      <td>0.169279</td>\n",
       "      <td>0.844720</td>\n",
       "    </tr>\n",
       "    <tr>\n",
       "      <th>4</th>\n",
       "      <td>1985</td>\n",
       "      <td>ATL</td>\n",
       "      <td>NL</td>\n",
       "      <td>hubbagl01</td>\n",
       "      <td>455000</td>\n",
       "      <td>Germany</td>\n",
       "      <td>150.0</td>\n",
       "      <td>69.0</td>\n",
       "      <td>R</td>\n",
       "      <td>R</td>\n",
       "      <td>...</td>\n",
       "      <td>0.000000</td>\n",
       "      <td>0.985915</td>\n",
       "      <td>0.035211</td>\n",
       "      <td>0.0</td>\n",
       "      <td>126.851852</td>\n",
       "      <td>2.672409</td>\n",
       "      <td>4.249051</td>\n",
       "      <td>0.078832</td>\n",
       "      <td>1.001168</td>\n",
       "      <td>0.635143</td>\n",
       "    </tr>\n",
       "  </tbody>\n",
       "</table>\n",
       "<p>5 rows × 22 columns</p>\n",
       "</div>"
      ],
      "text/plain": [
       "   yearID teamID lgID   playerID   salary birthCountry  weight  height bats  \\\n",
       "0    1985    ATL   NL  chambch01   800000          USA   195.0    73.0    L   \n",
       "1    1985    ATL   NL  harpete01   250000          USA   195.0    76.0    R   \n",
       "2    1985    ATL   NL  hornebo01  1500000          USA   195.0    73.0    R   \n",
       "3    1985    ATL   NL  hornebo01  1500000          USA   195.0    73.0    R   \n",
       "4    1985    ATL   NL  hubbagl01   455000      Germany   150.0    69.0    R   \n",
       "\n",
       "  throws    ...     Outfield   Infield     Pinch   DH       Games        POg  \\\n",
       "0      R    ...     0.000000  0.386139  0.643564  0.0   30.148148   9.917690   \n",
       "1      R    ...     0.949275  0.000000  0.094203  0.0  122.185185   1.759624   \n",
       "2      R    ...     0.000000  0.976923  0.038462  0.0   82.925926  10.756588   \n",
       "3      R    ...     0.000000  0.976923  0.038462  0.0   35.444444   0.705329   \n",
       "4      R    ...     0.000000  0.985915  0.035211  0.0  126.851852   2.672409   \n",
       "\n",
       "         Ag        Eg       DPg       OPS  \n",
       "0  0.829238  0.033170  1.028256  0.636290  \n",
       "1  0.081843  0.040921  0.000000  0.741806  \n",
       "2  0.699419  0.000000  1.266190  0.844720  \n",
       "3  1.721003  0.310345  0.169279  0.844720  \n",
       "4  4.249051  0.078832  1.001168  0.635143  \n",
       "\n",
       "[5 rows x 22 columns]"
      ]
     },
     "execution_count": 47,
     "metadata": {},
     "output_type": "execute_result"
    }
   ],
   "source": [
    "Data.head()"
   ]
  },
  {
   "cell_type": "code",
   "execution_count": null,
   "metadata": {
    "collapsed": true
   },
   "outputs": [],
   "source": []
  }
 ],
 "metadata": {
  "kernelspec": {
   "display_name": "Python 3",
   "language": "python",
   "name": "python3"
  },
  "language_info": {
   "codemirror_mode": {
    "name": "ipython",
    "version": 3
   },
   "file_extension": ".py",
   "mimetype": "text/x-python",
   "name": "python",
   "nbconvert_exporter": "python",
   "pygments_lexer": "ipython3",
   "version": "3.6.0"
  }
 },
 "nbformat": 4,
 "nbformat_minor": 2
}
