{
 "cells": [
  {
   "cell_type": "code",
   "execution_count": 24,
   "metadata": {
    "collapsed": false
   },
   "outputs": [],
   "source": [
    "exec(open(\"../../Scripts/Packages.py\").read())\n",
    "\n",
    "Xvar = pd.read_csv(\"../../Data/Xvar.csv\")\n",
    "Yvar = pd.read_csv(\"../../Data/Yvar.csv\")"
   ]
  },
  {
   "cell_type": "code",
   "execution_count": 25,
   "metadata": {
    "collapsed": false
   },
   "outputs": [],
   "source": [
    "samplesize = int(np.floor(Xvar.shape[0]/2))\n",
    "\n",
    "train_sample = np.random.choice(Xvar.shape[0], replace=False, size=samplesize)\n",
    "test_sample = np.random.choice(Xvar.loc[~Xvar.index.isin(train_sample)].shape[0], replace=False, size=samplesize)\n",
    "\n",
    "X_train = Xvar.loc[train_sample]\n",
    "Y_train = Yvar.loc[train_sample]\n",
    "X_test = Xvar.loc[test_sample]\n",
    "Y_test = Yvar.loc[test_sample]"
   ]
  },
  {
   "cell_type": "code",
   "execution_count": 26,
   "metadata": {
    "collapsed": false
   },
   "outputs": [
    {
     "name": "stdout",
     "output_type": "stream",
     "text": [
      "Explained Variance: -0.25\n",
      "r^2: -0.44\n",
      "Mean squared error: 2.92\n",
      "Variance score: -0.44\n"
     ]
    }
   ],
   "source": [
    "# Linear Regression\n",
    "\n",
    "linreg = LinearRegression()\n",
    "linreg.fit(X_train, Y_train)\n",
    "Y_pred = linreg.predict(X_test)\n",
    "\n",
    "print(\"Explained Variance: %.2f\" \n",
    "    %explained_variance_score(Y_test, Y_pred))\n",
    "\n",
    "print(\"r^2: %.2f\" \n",
    "    %r2_score(Y_test, Y_pred))\n",
    "\n",
    "print(\"Mean squared error: %.2f\"\n",
    "      % np.mean((linreg.predict(X_test) - Y_test) ** 2))"
   ]
  },
  {
   "cell_type": "code",
   "execution_count": null,
   "metadata": {
    "collapsed": true
   },
   "outputs": [],
   "source": []
  }
 ],
 "metadata": {
  "kernelspec": {
   "display_name": "Python 3",
   "language": "python",
   "name": "python3"
  },
  "language_info": {
   "codemirror_mode": {
    "name": "ipython",
    "version": 3
   },
   "file_extension": ".py",
   "mimetype": "text/x-python",
   "name": "python",
   "nbconvert_exporter": "python",
   "pygments_lexer": "ipython3",
   "version": "3.6.0"
  }
 },
 "nbformat": 4,
 "nbformat_minor": 2
}
